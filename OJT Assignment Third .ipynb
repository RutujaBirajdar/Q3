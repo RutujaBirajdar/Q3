{
 "cells": [
  {
   "cell_type": "markdown",
   "id": "9aabeac5",
   "metadata": {},
   "source": [
    "Name :Rutuja Dayanand Birajdar\n",
    "\n",
    "Roll no: 23092008\n",
    "\n",
    "IMCA 1st"
   ]
  },
  {
   "cell_type": "markdown",
   "id": "48f72dae",
   "metadata": {},
   "source": [
    "# Q3. Singular Value Decomposition (SVD):\n"
   ]
  },
  {
   "cell_type": "markdown",
   "id": "8aad5d5c",
   "metadata": {},
   "source": [
    "Perform Singular Value Decomposition on the matrix A obtained in Question 2. Separate and print \n",
    "matrices U, Σ, and 𝑉\n",
    "்\n",
    ". Verify that A equals the product of U, Σ, and 𝑉\n",
    "்\n",
    ". Additionally, find the rank 2 \n",
    "and rank 3 approximations of matrix A."
   ]
  },
  {
   "cell_type": "code",
   "execution_count": 11,
   "id": "37a005b2",
   "metadata": {},
   "outputs": [
    {
     "name": "stdout",
     "output_type": "stream",
     "text": [
      "Matrix A:\n",
      "[[8 8 6 2 8]\n",
      " [7 2 1 5 4]\n",
      " [4 5 7 3 6]\n",
      " [4 3 7 6 1]\n",
      " [3 5 8 4 6]]\n"
     ]
    }
   ],
   "source": [
    "#Perform SIngularvakue decomposition (SVD)\n",
    "import numpy as np\n",
    "\n",
    "\n",
    "np.random.seed(2)\n",
    "\n",
    "\n",
    "A = np.random.randint(0, 10, size=(5, 5))\n",
    "print(\"Matrix A:\")\n",
    "print(A)"
   ]
  },
  {
   "cell_type": "code",
   "execution_count": 12,
   "id": "bbc012e3",
   "metadata": {},
   "outputs": [
    {
     "name": "stdout",
     "output_type": "stream",
     "text": [
      "\n",
      "Matrix U:\n",
      "[[-5.81305618e-01 -5.03654582e-01 -3.31511571e-01  5.14809089e-01\n",
      "   1.82995956e-01]\n",
      " [-3.20241693e-01 -4.95054048e-01  7.07063522e-01 -3.90419782e-01\n",
      "  -5.63638852e-04]\n",
      " [-4.53779839e-01  1.37875020e-01 -2.47842758e-01 -2.50300244e-01\n",
      "  -8.06844528e-01]\n",
      " [-3.65208499e-01  5.86353965e-01  5.21576739e-01  5.00670256e-01\n",
      "  -9.93882503e-03]\n",
      " [-4.69292709e-01  3.72065933e-01 -2.38102765e-01 -5.18867110e-01\n",
      "   5.61618456e-01]]\n",
      "\n",
      "Matrix Sigma:\n",
      "[[25.27873539  0.          0.          0.          0.        ]\n",
      " [ 0.          6.51755471  0.          0.          0.        ]\n",
      " [ 0.          0.          6.05540789  0.          0.        ]\n",
      " [ 0.          0.          0.          2.17898879  0.        ]\n",
      " [ 0.          0.          0.          0.          0.3017626 ]]\n",
      "\n",
      "Matrix Vt:\n",
      "[[-0.45793305 -0.43522417 -0.52594939 -0.32412939 -0.46818226]\n",
      " [-0.53417292 -0.10902526  0.69491535  0.29726381 -0.36262882]\n",
      " [ 0.44224597 -0.34728675 -0.20984386  0.71106945 -0.36627341]\n",
      " [ 0.38110015  0.4560864   0.13771891 -0.34182295 -0.71479959]\n",
      " [-0.40513923  0.6856169  -0.42127064  0.42908236 -0.06489261]]\n"
     ]
    }
   ],
   "source": [
    "#Perform SIngularvakue decomposition (SVD)\n",
    "U, S, Vt = np.linalg.svd(A)\n",
    "print(\"\\nMatrix U:\")\n",
    "print(U)\n",
    "print(\"\\nMatrix Sigma:\")\n",
    "print(np.diag(S))\n",
    "print(\"\\nMatrix Vt:\")\n",
    "print(Vt)"
   ]
  },
  {
   "cell_type": "code",
   "execution_count": 13,
   "id": "b3d69605",
   "metadata": {},
   "outputs": [
    {
     "name": "stdout",
     "output_type": "stream",
     "text": [
      "\n",
      "Reconstructed Matrix A:\n",
      "[[8. 8. 6. 2. 8.]\n",
      " [7. 2. 1. 5. 4.]\n",
      " [4. 5. 7. 3. 6.]\n",
      " [4. 3. 7. 6. 1.]\n",
      " [3. 5. 8. 4. 6.]]\n"
     ]
    }
   ],
   "source": [
    "#TO show that A equals to  U, Sigma & V\n",
    "A_reconstructed = np.dot(U, np.dot(np.diag(S), Vt))\n",
    "print(\"\\nReconstructed Matrix A:\")\n",
    "print(A_reconstructed)"
   ]
  },
  {
   "cell_type": "code",
   "execution_count": 14,
   "id": "55e6756a",
   "metadata": {},
   "outputs": [
    {
     "name": "stdout",
     "output_type": "stream",
     "text": [
      "\n",
      "Rank 2 Approximation of Matrix A:\n",
      "[[8.48264945 6.75336182 5.44752663 3.7871776  8.07014827]\n",
      " [5.43063897 3.87504695 2.01554728 1.66479213 4.96011527]\n",
      " [4.77292897 4.89447696 6.65761165 3.98520552 5.04464843]\n",
      " [2.18624993 3.60134315 7.51125386 4.12838706 2.93644271]\n",
      " [4.1371695  4.89873732 7.92454596 4.56604073 4.67474485]]\n"
     ]
    }
   ],
   "source": [
    "# Rank 2 approximation\n",
    "rank_2_approximation = np.dot(U[:, :2], np.dot(np.diag(S[:2]), Vt[:2, :]))\n",
    "print(\"\\nRank 2 Approximation of Matrix A:\")\n",
    "print(rank_2_approximation)\n"
   ]
  },
  {
   "cell_type": "code",
   "execution_count": 15,
   "id": "51b0171b",
   "metadata": {},
   "outputs": [
    {
     "name": "stdout",
     "output_type": "stream",
     "text": [
      "\n",
      "Rank 3 Approximation of Matrix A:\n",
      "[[7.59486819 7.45051837 5.86877512 2.35974991 8.80541935]\n",
      " [7.32414074 2.38811858 1.11708862 4.70927725 3.39189442]\n",
      " [4.10921109 5.41568109 6.97254301 2.91804032 5.59434753]\n",
      " [3.58302185 2.5044866  6.84849143 6.3742003  1.77961947]\n",
      " [3.49953512 5.39945861 8.2271008  3.54081413 5.20284128]]\n"
     ]
    }
   ],
   "source": [
    "# Rank 3 approximation\n",
    "rank_3_approximation = np.dot(U[:, :3], np.dot(np.diag(S[:3]), Vt[:3, :]))\n",
    "print(\"\\nRank 3 Approximation of Matrix A:\")\n",
    "print(rank_3_approximation)"
   ]
  },
  {
   "cell_type": "code",
   "execution_count": null,
   "id": "d28f6833",
   "metadata": {},
   "outputs": [],
   "source": []
  }
 ],
 "metadata": {
  "kernelspec": {
   "display_name": "Python 3 (ipykernel)",
   "language": "python",
   "name": "python3"
  },
  "language_info": {
   "codemirror_mode": {
    "name": "ipython",
    "version": 3
   },
   "file_extension": ".py",
   "mimetype": "text/x-python",
   "name": "python",
   "nbconvert_exporter": "python",
   "pygments_lexer": "ipython3",
   "version": "3.11.5"
  }
 },
 "nbformat": 4,
 "nbformat_minor": 5
}
